{
 "cells": [
  {
   "cell_type": "code",
   "execution_count": 10,
   "metadata": {},
   "outputs": [],
   "source": [
    "import matplotlib.pyplot as plt\n",
    "import numpy as np\n",
    "import numpy.linalg as ln\n",
    "import colour as cl"
   ]
  },
  {
   "cell_type": "code",
   "execution_count": 11,
   "metadata": {},
   "outputs": [],
   "source": [
    "T_srgb_to_cie=np.array([[0.4124,0.3576,0.1805],\n",
    "                    [0.2126,0.7152,0.0722],\n",
    "                    [0.0193,0.1192,0.9505]])\n",
    "\n",
    "T_cieXYZ_to_srgb = ln.inv(T_srgb_to_cie)\n",
    "\n",
    "T_cieXYZ_to_p3d65 = np.array([[2.493497, -0.931384, -0.402711],\n",
    "                              [-0.829489, 1.762664,  0.023625],\n",
    "                              [0.035846, -0.076172,  0.956885]])\n",
    "                              \n",
    "T_p3d65_to_srgb = ln.inv(T_cieXYZ_to_p3d65)\n",
    "\n",
    "cmf_XYZ = np.genfromtxt('lin2012xyz10e_1_7sf.csv', delimiter=',')\n",
    "\n",
    "cmf_p3d65 = np.dot(T_cieXYZ_to_p3d65,cmf_XYZ[:,1:].T)\n",
    "cmf_p3d65 = np.vstack((cmf_XYZ[:,0],cmf_p3d65)).T\n",
    "\n",
    "cmf_srgb = np.dot(T_cieXYZ_to_srgb,cmf_XYZ[:,1:].T)\n",
    "cmf_srgb = np.vstack((cmf_XYZ[:,0],cmf_srgb)).T"
   ]
  },
  {
   "cell_type": "code",
   "execution_count": 12,
   "metadata": {},
   "outputs": [],
   "source": [
    "def inner(spectrum, cmf):\n",
    "    \"\"\"\n",
    "    spectrum shuold be (m,n) array, row is spectrum\n",
    "\n",
    "    cmf should be (n,3) array\n",
    "\n",
    "    return (m,3)\n",
    "    \"\"\"\n",
    "    R = np.inner(spectrum, cmf[:,0])\n",
    "    G = np.inner(spectrum, cmf[:,1])\n",
    "    B = np.inner(spectrum, cmf[:,2])\n",
    "    rgb = np.vstack((R,G,B)).T\n",
    "    rgb = rgb/np.max(rgb)\n",
    "    return rgb"
   ]
  },
  {
   "cell_type": "code",
   "execution_count": 13,
   "metadata": {},
   "outputs": [],
   "source": [
    "APD = np.genfromtxt('APD_CMF.csv',delimiter=',') # from 360 to 730\n",
    "APD = APD[8:] # reduced to 367 to 730\n",
    "xrite_spectrum = np.genfromtxt('xrite_cherker_spectrum.csv',delimiter=' ') # 24colors \n",
    "xrite_spectrum_1nm = np.repeat(xrite_spectrum, repeats=10, axis=1)[:,390-376:] # interplot to 1nm, from 376 to 735, reduced to 390 to 735 for p3-D65 CMF\n",
    "xrite_spectrum_2nm = np.repeat(xrite_spectrum, repeats=5, axis=1)[:,:(730-376)//2+1] # interplot to 2nm, from 376 to 734, reduced to 376 to 730, for APD CMF\n",
    "cmf_p3d65_390_735 = cmf_p3d65[:735-390+1]\n",
    "cmf_XYZ_390_735 = cmf_XYZ[:735-390+1]"
   ]
  },
  {
   "cell_type": "code",
   "execution_count": 14,
   "metadata": {},
   "outputs": [],
   "source": [
    "xr_p3 = inner(xrite_spectrum_1nm,cmf_p3d65_390_735[:,1:])\n",
    "xr_apd = inner(xrite_spectrum_2nm,APD[:,1:])"
   ]
  },
  {
   "cell_type": "code",
   "execution_count": 15,
   "metadata": {},
   "outputs": [
    {
     "data": {
      "text/plain": [
       "(24, 178)"
      ]
     },
     "execution_count": 15,
     "metadata": {},
     "output_type": "execute_result"
    }
   ],
   "source": [
    "xrite_spectrum_2nm.shape"
   ]
  },
  {
   "cell_type": "code",
   "execution_count": 16,
   "metadata": {},
   "outputs": [
    {
     "name": "stderr",
     "output_type": "stream",
     "text": [
      "/var/folders/cv/3w4fv3096tq_v6gkm2b1x3vm0000gn/T/ipykernel_19750/1865324280.py:1: FutureWarning: `rcond` parameter will change to the default of machine precision times ``max(M, N)`` where M and N are the input matrix dimensions.\n",
      "To use the future default and silence this warning we advise to pass `rcond=None`, to keep using the old, explicitly pass `rcond=-1`.\n",
      "  ccm_p3_to_apd = ln.lstsq(xr_p3,xr_apd)[0].T\n"
     ]
    }
   ],
   "source": [
    "ccm_p3_to_apd = ln.lstsq(xr_p3,xr_apd)[0].T"
   ]
  },
  {
   "cell_type": "code",
   "execution_count": 17,
   "metadata": {},
   "outputs": [
    {
     "data": {
      "text/plain": [
       "array([[ 1.43125479, -0.94726934,  0.59132499],\n",
       "       [ 0.00718712,  0.58665976, -0.06972452],\n",
       "       [-0.01965487,  0.06406901,  0.74042105]])"
      ]
     },
     "execution_count": 17,
     "metadata": {},
     "output_type": "execute_result"
    }
   ],
   "source": [
    "ccm_p3_to_apd"
   ]
  }
 ],
 "metadata": {
  "kernelspec": {
   "display_name": "Python 3.9.13 ('base')",
   "language": "python",
   "name": "python3"
  },
  "language_info": {
   "codemirror_mode": {
    "name": "ipython",
    "version": 3
   },
   "file_extension": ".py",
   "mimetype": "text/x-python",
   "name": "python",
   "nbconvert_exporter": "python",
   "pygments_lexer": "ipython3",
   "version": "3.9.13"
  },
  "orig_nbformat": 4,
  "vscode": {
   "interpreter": {
    "hash": "33ddac7e9f7b36809fc8fd998f0ffa6869cde0ed7b541b4572bec5acb93e3b49"
   }
  }
 },
 "nbformat": 4,
 "nbformat_minor": 2
}
